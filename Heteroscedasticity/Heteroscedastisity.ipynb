{
 "cells": [
  {
   "cell_type": "code",
   "execution_count": 24,
   "id": "b5e2806a",
   "metadata": {},
   "outputs": [],
   "source": [
    "import pandas as pd\n",
    "import matplotlib.pyplot as plt\n",
    "import statsmodels.api as sm\n",
    "import statsmodels.formula.api as smf\n",
    "import statsmodels.tools.tools as smt\n",
    "import statsmodels.stats.diagnostic as smd\n",
    "from statsmodels.stats.diagnostic import het_breuschpagan\n",
    "from statsmodels.stats.diagnostic import het_white\n",
    "from statsmodels.formula.api import ols"
   ]
  },
  {
   "cell_type": "code",
   "execution_count": 20,
   "id": "a705793b",
   "metadata": {},
   "outputs": [
    {
     "data": {
      "text/html": [
       "<div>\n",
       "<style scoped>\n",
       "    .dataframe tbody tr th:only-of-type {\n",
       "        vertical-align: middle;\n",
       "    }\n",
       "\n",
       "    .dataframe tbody tr th {\n",
       "        vertical-align: top;\n",
       "    }\n",
       "\n",
       "    .dataframe thead th {\n",
       "        text-align: right;\n",
       "    }\n",
       "</style>\n",
       "<table border=\"1\" class=\"dataframe\">\n",
       "  <thead>\n",
       "    <tr style=\"text-align: right;\">\n",
       "      <th></th>\n",
       "      <th>PassengerId</th>\n",
       "      <th>Survived</th>\n",
       "      <th>Pclass</th>\n",
       "      <th>Name</th>\n",
       "      <th>Sex</th>\n",
       "      <th>fare</th>\n",
       "      <th>SibSp</th>\n",
       "      <th>Parch</th>\n",
       "      <th>Ticket</th>\n",
       "      <th>Fare</th>\n",
       "      <th>Cabin</th>\n",
       "      <th>Embarked</th>\n",
       "    </tr>\n",
       "  </thead>\n",
       "  <tbody>\n",
       "    <tr>\n",
       "      <th>794</th>\n",
       "      <td>795</td>\n",
       "      <td>0</td>\n",
       "      <td>3</td>\n",
       "      <td>Dantcheff, Mr. Ristiu</td>\n",
       "      <td>male</td>\n",
       "      <td>790</td>\n",
       "      <td>0</td>\n",
       "      <td>0</td>\n",
       "      <td>349203</td>\n",
       "      <td>7.8958</td>\n",
       "      <td>25</td>\n",
       "      <td>S</td>\n",
       "    </tr>\n",
       "    <tr>\n",
       "      <th>795</th>\n",
       "      <td>796</td>\n",
       "      <td>0</td>\n",
       "      <td>2</td>\n",
       "      <td>Otter, Mr. Richard</td>\n",
       "      <td>male</td>\n",
       "      <td>1300</td>\n",
       "      <td>0</td>\n",
       "      <td>0</td>\n",
       "      <td>28213</td>\n",
       "      <td>13.0000</td>\n",
       "      <td>25</td>\n",
       "      <td>S</td>\n",
       "    </tr>\n",
       "    <tr>\n",
       "      <th>796</th>\n",
       "      <td>797</td>\n",
       "      <td>1</td>\n",
       "      <td>1</td>\n",
       "      <td>Leader, Dr. Alice (Farnham)</td>\n",
       "      <td>female</td>\n",
       "      <td>2593</td>\n",
       "      <td>0</td>\n",
       "      <td>0</td>\n",
       "      <td>17465</td>\n",
       "      <td>25.9292</td>\n",
       "      <td>D17</td>\n",
       "      <td>S</td>\n",
       "    </tr>\n",
       "    <tr>\n",
       "      <th>797</th>\n",
       "      <td>798</td>\n",
       "      <td>1</td>\n",
       "      <td>3</td>\n",
       "      <td>Osman, Mrs. Mara</td>\n",
       "      <td>female</td>\n",
       "      <td>869</td>\n",
       "      <td>0</td>\n",
       "      <td>0</td>\n",
       "      <td>349244</td>\n",
       "      <td>8.6833</td>\n",
       "      <td>25</td>\n",
       "      <td>S</td>\n",
       "    </tr>\n",
       "    <tr>\n",
       "      <th>798</th>\n",
       "      <td>799</td>\n",
       "      <td>0</td>\n",
       "      <td>3</td>\n",
       "      <td>Ibrahim Shawah, Mr. Yousseff</td>\n",
       "      <td>male</td>\n",
       "      <td>723</td>\n",
       "      <td>0</td>\n",
       "      <td>0</td>\n",
       "      <td>2685</td>\n",
       "      <td>7.2292</td>\n",
       "      <td>25</td>\n",
       "      <td>C</td>\n",
       "    </tr>\n",
       "  </tbody>\n",
       "</table>\n",
       "</div>"
      ],
      "text/plain": [
       "     PassengerId  Survived  Pclass                          Name     Sex  \\\n",
       "794          795         0       3         Dantcheff, Mr. Ristiu    male   \n",
       "795          796         0       2            Otter, Mr. Richard    male   \n",
       "796          797         1       1   Leader, Dr. Alice (Farnham)  female   \n",
       "797          798         1       3              Osman, Mrs. Mara  female   \n",
       "798          799         0       3  Ibrahim Shawah, Mr. Yousseff    male   \n",
       "\n",
       "     fare  SibSp  Parch  Ticket     Fare Cabin Embarked  \n",
       "794   790      0      0  349203   7.8958    25        S  \n",
       "795  1300      0      0   28213  13.0000    25        S  \n",
       "796  2593      0      0   17465  25.9292   D17        S  \n",
       "797   869      0      0  349244   8.6833    25        S  \n",
       "798   723      0      0    2685   7.2292    25        C  "
      ]
     },
     "execution_count": 20,
     "metadata": {},
     "output_type": "execute_result"
    }
   ],
   "source": [
    "df = pd.read_csv(\"C:/Users/SCIENCE/Documents/TITANIC.CSV\")\n",
    "df.tail()"
   ]
  },
  {
   "cell_type": "code",
   "execution_count": 14,
   "id": "50472d4b",
   "metadata": {},
   "outputs": [
    {
     "data": {
      "text/plain": [
       "<matplotlib.collections.PathCollection at 0x27e158c1250>"
      ]
     },
     "execution_count": 14,
     "metadata": {},
     "output_type": "execute_result"
    },
    {
     "data": {
      "image/png": "[encoded data removed]",
      "text/plain": [
       "<Figure size 640x480 with 1 Axes>"
      ]
     },
     "metadata": {},
     "output_type": "display_data"
    }
   ],
   "source": [
    "plt.scatter(df.Survived, df.fare)"
   ]
  },
  {
   "cell_type": "code",
   "execution_count": 31,
   "id": "63dae598",
   "metadata": {},
   "outputs": [
    {
     "data": {
      "text/html": [
       "<table class=\"simpletable\">\n",
       "<caption>OLS Regression Results</caption>\n",
       "<tr>\n",
       "  <th>Dep. Variable:</th>          <td>fare</td>       <th>  R-squared:         </th> <td>   1.000</td> \n",
       "</tr>\n",
       "<tr>\n",
       "  <th>Model:</th>                   <td>OLS</td>       <th>  Adj. R-squared:    </th> <td>   1.000</td> \n",
       "</tr>\n",
       "<tr>\n",
       "  <th>Method:</th>             <td>Least Squares</td>  <th>  F-statistic:       </th> <td>6.833e+10</td>\n",
       "</tr>\n",
       "<tr>\n",
       "  <th>Date:</th>             <td>Mon, 18 Mar 2024</td> <th>  Prob (F-statistic):</th>  <td>  0.00</td>  \n",
       "</tr>\n",
       "<tr>\n",
       "  <th>Time:</th>                 <td>23:35:34</td>     <th>  Log-Likelihood:    </th> <td> -225.51</td> \n",
       "</tr>\n",
       "<tr>\n",
       "  <th>No. Observations:</th>      <td>   799</td>      <th>  AIC:               </th> <td>   459.0</td> \n",
       "</tr>\n",
       "<tr>\n",
       "  <th>Df Residuals:</th>          <td>   795</td>      <th>  BIC:               </th> <td>   477.8</td> \n",
       "</tr>\n",
       "<tr>\n",
       "  <th>Df Model:</th>              <td>     3</td>      <th>                     </th>     <td> </td>    \n",
       "</tr>\n",
       "<tr>\n",
       "  <th>Covariance Type:</th>      <td>nonrobust</td>    <th>                     </th>     <td> </td>    \n",
       "</tr>\n",
       "</table>\n",
       "<table class=\"simpletable\">\n",
       "<tr>\n",
       "      <td></td>         <th>coef</th>     <th>std err</th>      <th>t</th>      <th>P>|t|</th>  <th>[0.025</th>    <th>0.975]</th>  \n",
       "</tr>\n",
       "<tr>\n",
       "  <th>Intercept</th> <td>   -0.0113</td> <td>    0.048</td> <td>   -0.234</td> <td> 0.815</td> <td>   -0.106</td> <td>    0.083</td>\n",
       "</tr>\n",
       "<tr>\n",
       "  <th>Fare</th>      <td>  100.0011</td> <td>    0.000</td> <td> 3.74e+05</td> <td> 0.000</td> <td>  100.001</td> <td>  100.002</td>\n",
       "</tr>\n",
       "<tr>\n",
       "  <th>Pclass</th>    <td>    0.1166</td> <td>    0.017</td> <td>    6.912</td> <td> 0.000</td> <td>    0.083</td> <td>    0.150</td>\n",
       "</tr>\n",
       "<tr>\n",
       "  <th>Survived</th>  <td>   -0.0516</td> <td>    0.025</td> <td>   -2.081</td> <td> 0.038</td> <td>   -0.100</td> <td>   -0.003</td>\n",
       "</tr>\n",
       "</table>\n",
       "<table class=\"simpletable\">\n",
       "<tr>\n",
       "  <th>Omnibus:</th>       <td>80.297</td> <th>  Durbin-Watson:     </th> <td>   1.967</td>\n",
       "</tr>\n",
       "<tr>\n",
       "  <th>Prob(Omnibus):</th> <td> 0.000</td> <th>  Jarque-Bera (JB):  </th> <td> 102.423</td>\n",
       "</tr>\n",
       "<tr>\n",
       "  <th>Skew:</th>          <td> 0.868</td> <th>  Prob(JB):          </th> <td>5.74e-23</td>\n",
       "</tr>\n",
       "<tr>\n",
       "  <th>Kurtosis:</th>      <td> 2.746</td> <th>  Cond. No.          </th> <td>    278.</td>\n",
       "</tr>\n",
       "</table><br/><br/>Notes:<br/>[1] Standard Errors assume that the covariance matrix of the errors is correctly specified."
      ],
      "text/latex": [
       "\\begin{center}\n",
       "\\begin{tabular}{lclc}\n",
       "\\toprule\n",
       "\\textbf{Dep. Variable:}    &       fare       & \\textbf{  R-squared:         } &     1.000   \\\\\n",
       "\\textbf{Model:}            &       OLS        & \\textbf{  Adj. R-squared:    } &     1.000   \\\\\n",
       "\\textbf{Method:}           &  Least Squares   & \\textbf{  F-statistic:       } & 6.833e+10   \\\\\n",
       "\\textbf{Date:}             & Mon, 18 Mar 2024 & \\textbf{  Prob (F-statistic):} &     0.00    \\\\\n",
       "\\textbf{Time:}             &     23:35:34     & \\textbf{  Log-Likelihood:    } &   -225.51   \\\\\n",
       "\\textbf{No. Observations:} &         799      & \\textbf{  AIC:               } &     459.0   \\\\\n",
       "\\textbf{Df Residuals:}     &         795      & \\textbf{  BIC:               } &     477.8   \\\\\n",
       "\\textbf{Df Model:}         &           3      & \\textbf{                     } &             \\\\\n",
       "\\textbf{Covariance Type:}  &    nonrobust     & \\textbf{                     } &             \\\\\n",
       "\\bottomrule\n",
       "\\end{tabular}\n",
       "\\begin{tabular}{lcccccc}\n",
       "                   & \\textbf{coef} & \\textbf{std err} & \\textbf{t} & \\textbf{P$> |$t$|$} & \\textbf{[0.025} & \\textbf{0.975]}  \\\\\n",
       "\\midrule\n",
       "\\textbf{Intercept} &      -0.0113  &        0.048     &    -0.234  &         0.815        &       -0.106    &        0.083     \\\\\n",
       "\\textbf{Fare}      &     100.0011  &        0.000     &  3.74e+05  &         0.000        &      100.001    &      100.002     \\\\\n",
       "\\textbf{Pclass}    &       0.1166  &        0.017     &     6.912  &         0.000        &        0.083    &        0.150     \\\\\n",
       "\\textbf{Survived}  &      -0.0516  &        0.025     &    -2.081  &         0.038        &       -0.100    &       -0.003     \\\\\n",
       "\\bottomrule\n",
       "\\end{tabular}\n",
       "\\begin{tabular}{lclc}\n",
       "\\textbf{Omnibus:}       & 80.297 & \\textbf{  Durbin-Watson:     } &    1.967  \\\\\n",
       "\\textbf{Prob(Omnibus):} &  0.000 & \\textbf{  Jarque-Bera (JB):  } &  102.423  \\\\\n",
       "\\textbf{Skew:}          &  0.868 & \\textbf{  Prob(JB):          } & 5.74e-23  \\\\\n",
       "\\textbf{Kurtosis:}      &  2.746 & \\textbf{  Cond. No.          } &     278.  \\\\\n",
       "\\bottomrule\n",
       "\\end{tabular}\n",
       "%\\caption{OLS Regression Results}\n",
       "\\end{center}\n",
       "\n",
       "Notes: \\newline\n",
       " [1] Standard Errors assume that the covariance matrix of the errors is correctly specified."
      ],
      "text/plain": [
       "<class 'statsmodels.iolib.summary.Summary'>\n",
       "\"\"\"\n",
       "                            OLS Regression Results                            \n",
       "==============================================================================\n",
       "Dep. Variable:                   fare   R-squared:                       1.000\n",
       "Model:                            OLS   Adj. R-squared:                  1.000\n",
       "Method:                 Least Squares   F-statistic:                 6.833e+10\n",
       "Date:                Mon, 18 Mar 2024   Prob (F-statistic):               0.00\n",
       "Time:                        23:35:34   Log-Likelihood:                -225.51\n",
       "No. Observations:                 799   AIC:                             459.0\n",
       "Df Residuals:                     795   BIC:                             477.8\n",
       "Df Model:                           3                                         \n",
       "Covariance Type:            nonrobust                                         \n",
       "==============================================================================\n",
       "                 coef    std err          t      P>|t|      [0.025      0.975]\n",
       "------------------------------------------------------------------------------\n",
       "Intercept     -0.0113      0.048     -0.234      0.815      -0.106       0.083\n",
       "Fare         100.0011      0.000   3.74e+05      0.000     100.001     100.002\n",
       "Pclass         0.1166      0.017      6.912      0.000       0.083       0.150\n",
       "Survived      -0.0516      0.025     -2.081      0.038      -0.100      -0.003\n",
       "==============================================================================\n",
       "Omnibus:                       80.297   Durbin-Watson:                   1.967\n",
       "Prob(Omnibus):                  0.000   Jarque-Bera (JB):              102.423\n",
       "Skew:                           0.868   Prob(JB):                     5.74e-23\n",
       "Kurtosis:                       2.746   Cond. No.                         278.\n",
       "==============================================================================\n",
       "\n",
       "Notes:\n",
       "[1] Standard Errors assume that the covariance matrix of the errors is correctly specified.\n",
       "\"\"\""
      ]
     },
     "execution_count": 31,
     "metadata": {},
     "output_type": "execute_result"
    }
   ],
   "source": [
    "model = smf.ols(formula=\"fare~Fare+Pclass+Survived\", data=df).fit()\n",
    "model.summary()"
   ]
  },
  {
   "cell_type": "code",
   "execution_count": 19,
   "id": "6cd9cd55",
   "metadata": {},
   "outputs": [
    {
     "data": {
      "text/html": [
       "<div>\n",
       "<style scoped>\n",
       "    .dataframe tbody tr th:only-of-type {\n",
       "        vertical-align: middle;\n",
       "    }\n",
       "\n",
       "    .dataframe tbody tr th {\n",
       "        vertical-align: top;\n",
       "    }\n",
       "\n",
       "    .dataframe thead th {\n",
       "        text-align: right;\n",
       "    }\n",
       "</style>\n",
       "<table border=\"1\" class=\"dataframe\">\n",
       "  <thead>\n",
       "    <tr style=\"text-align: right;\">\n",
       "      <th></th>\n",
       "      <th>LM stat</th>\n",
       "      <th>LM p</th>\n",
       "      <th>F stat</th>\n",
       "      <th>F stat p</th>\n",
       "    </tr>\n",
       "  </thead>\n",
       "  <tbody>\n",
       "    <tr>\n",
       "      <th>white</th>\n",
       "      <td>39.539950</td>\n",
       "      <td>0.000004</td>\n",
       "      <td>5.141245</td>\n",
       "      <td>0.000003</td>\n",
       "    </tr>\n",
       "    <tr>\n",
       "      <th>Breusch Pagan</th>\n",
       "      <td>22.543815</td>\n",
       "      <td>0.000050</td>\n",
       "      <td>7.694073</td>\n",
       "      <td>0.000045</td>\n",
       "    </tr>\n",
       "  </tbody>\n",
       "</table>\n",
       "</div>"
      ],
      "text/plain": [
       "                 LM stat      LM p    F stat  F stat p\n",
       "white          39.539950  0.000004  5.141245  0.000003\n",
       "Breusch Pagan  22.543815  0.000050  7.694073  0.000045"
      ]
     },
     "execution_count": 19,
     "metadata": {},
     "output_type": "execute_result"
    }
   ],
   "source": [
    "white_test = het_white(model.resid, model.model.exog)\n",
    "breuschpagan_test = het_breuschpagan(model.resid, model.model.exog)\n",
    "\n",
    "output_df=pd.DataFrame(columns=(\"LM stat\", \"LM p\", \"F stat\", \"F stat p\"))\n",
    "output_df.loc[\"white\"] = white_test\n",
    "output_df.loc[\"Breusch Pagan\"] = breuschpagan_test\n",
    "output_df"
   ]
  },
  {
   "cell_type": "code",
   "execution_count": 6,
   "id": "b6abaf7e",
   "metadata": {},
   "outputs": [
    {
     "data": {
      "image/png": "[encoded data removed]",
      "text/plain": [
       "<Figure size 640x480 with 1 Axes>"
      ]
     },
     "metadata": {},
     "output_type": "display_data"
    }
   ],
   "source": [
    "df_Survived = df[df[\"Survived\"]==1]\n",
    "df_Survived = df[df[\"Survived\"]==0]\n",
    "\n",
    "plt.scatter(df_Survived.fare,df_Survived.Fare)\n",
    "plt.scatter(df_Survived.fare,df_Survived.Fare)\n",
    "plt.title(\"fare vs pclass\")\n",
    "plt.xlabel(\"fare\")\n",
    "plt.ylabel(\"pclass\")\n",
    "plt.show()"
   ]
  },
  {
   "cell_type": "code",
   "execution_count": 18,
   "id": "28153e01",
   "metadata": {},
   "outputs": [
    {
     "data": {
      "text/plain": [
       "(39.53995003770775,\n",
       " 3.90185932072363e-06,\n",
       " 5.141244844172517,\n",
       " 2.882143321384884e-06)"
      ]
     },
     "execution_count": 18,
     "metadata": {},
     "output_type": "execute_result"
    }
   ],
   "source": [
    "wh=het_white(model.resid, model.model.exog)\n",
    "wh"
   ]
  },
  {
   "cell_type": "code",
   "execution_count": 24,
   "id": "7c875472",
   "metadata": {},
   "outputs": [
    {
     "data": {
      "text/plain": [
       "(22.54381467720901,\n",
       " 5.02628798282171e-05,\n",
       " 7.694073409920494,\n",
       " 4.514385559287887e-05)"
      ]
     },
     "execution_count": 24,
     "metadata": {},
     "output_type": "execute_result"
    }
   ],
   "source": [
    "brs=het_breuschpagan(model.resid,model.model.exog)\n",
    "brs"
   ]
  },
  {
   "cell_type": "raw",
   "id": "64cf1a28",
   "metadata": {},
   "source": [
    "#### white_test is based on regressing the squared residuals from the original regression model on the independent variables \n",
    "where H0:homoskedasticity.Unlike, breuschpagan which  uses  the residuals rather than the squared residuals."
   ]
  },
  {
   "cell_type": "raw",
   "id": "81cbeb5a",
   "metadata": {},
   "source": [
    "ols=model.summary()\n",
    "ols"
   ]
  },
  {
   "cell_type": "code",
   "execution_count": 22,
   "id": "bc5cfe53",
   "metadata": {},
   "outputs": [
    {
     "data": {
      "text/html": [
       "<div>\n",
       "<style scoped>\n",
       "    .dataframe tbody tr th:only-of-type {\n",
       "        vertical-align: middle;\n",
       "    }\n",
       "\n",
       "    .dataframe tbody tr th {\n",
       "        vertical-align: top;\n",
       "    }\n",
       "\n",
       "    .dataframe thead th {\n",
       "        text-align: right;\n",
       "    }\n",
       "</style>\n",
       "<table border=\"1\" class=\"dataframe\">\n",
       "  <thead>\n",
       "    <tr style=\"text-align: right;\">\n",
       "      <th></th>\n",
       "      <th>0</th>\n",
       "      <th>1</th>\n",
       "    </tr>\n",
       "  </thead>\n",
       "  <tbody>\n",
       "    <tr>\n",
       "      <th>Intercept</th>\n",
       "      <td>-0.105877</td>\n",
       "      <td>0.083364</td>\n",
       "    </tr>\n",
       "    <tr>\n",
       "      <th>Fare</th>\n",
       "      <td>100.000590</td>\n",
       "      <td>100.001640</td>\n",
       "    </tr>\n",
       "    <tr>\n",
       "      <th>Pclass</th>\n",
       "      <td>0.083462</td>\n",
       "      <td>0.149663</td>\n",
       "    </tr>\n",
       "    <tr>\n",
       "      <th>Survived</th>\n",
       "      <td>-0.100357</td>\n",
       "      <td>-0.002921</td>\n",
       "    </tr>\n",
       "  </tbody>\n",
       "</table>\n",
       "</div>"
      ],
      "text/plain": [
       "                    0           1\n",
       "Intercept   -0.105877    0.083364\n",
       "Fare       100.000590  100.001640\n",
       "Pclass       0.083462    0.149663\n",
       "Survived    -0.100357   -0.002921"
      ]
     },
     "execution_count": 22,
     "metadata": {},
     "output_type": "execute_result"
    }
   ],
   "source": [
    "model.conf_int()"
   ]
  },
  {
   "cell_type": "code",
   "execution_count": 30,
   "id": "3b5583d2",
   "metadata": {},
   "outputs": [
    {
     "data": {
      "text/html": [
       "<table class=\"simpletable\">\n",
       "<caption>OLS Regression Results</caption>\n",
       "<tr>\n",
       "  <th>Dep. Variable:</th>          <td>fare</td>       <th>  R-squared:         </th> <td>   1.000</td> \n",
       "</tr>\n",
       "<tr>\n",
       "  <th>Model:</th>                   <td>OLS</td>       <th>  Adj. R-squared:    </th> <td>   1.000</td> \n",
       "</tr>\n",
       "<tr>\n",
       "  <th>Method:</th>             <td>Least Squares</td>  <th>  F-statistic:       </th> <td>3.909e+10</td>\n",
       "</tr>\n",
       "<tr>\n",
       "  <th>Date:</th>             <td>Mon, 18 Mar 2024</td> <th>  Prob (F-statistic):</th>  <td>  0.00</td>  \n",
       "</tr>\n",
       "<tr>\n",
       "  <th>Time:</th>                 <td>23:34:51</td>     <th>  Log-Likelihood:    </th> <td> -225.51</td> \n",
       "</tr>\n",
       "<tr>\n",
       "  <th>No. Observations:</th>      <td>   799</td>      <th>  AIC:               </th> <td>   459.0</td> \n",
       "</tr>\n",
       "<tr>\n",
       "  <th>Df Residuals:</th>          <td>   795</td>      <th>  BIC:               </th> <td>   477.8</td> \n",
       "</tr>\n",
       "<tr>\n",
       "  <th>Df Model:</th>              <td>     3</td>      <th>                     </th>     <td> </td>    \n",
       "</tr>\n",
       "<tr>\n",
       "  <th>Covariance Type:</th>         <td>HC0</td>       <th>                     </th>     <td> </td>    \n",
       "</tr>\n",
       "</table>\n",
       "<table class=\"simpletable\">\n",
       "<tr>\n",
       "      <td></td>         <th>coef</th>     <th>std err</th>      <th>z</th>      <th>P>|z|</th>  <th>[0.025</th>    <th>0.975]</th>  \n",
       "</tr>\n",
       "<tr>\n",
       "  <th>Intercept</th> <td>   -0.0113</td> <td>    0.050</td> <td>   -0.224</td> <td> 0.823</td> <td>   -0.110</td> <td>    0.087</td>\n",
       "</tr>\n",
       "<tr>\n",
       "  <th>Fare</th>      <td>  100.0011</td> <td>    0.000</td> <td> 2.81e+05</td> <td> 0.000</td> <td>  100.000</td> <td>  100.002</td>\n",
       "</tr>\n",
       "<tr>\n",
       "  <th>Pclass</th>    <td>    0.1166</td> <td>    0.017</td> <td>    6.687</td> <td> 0.000</td> <td>    0.082</td> <td>    0.151</td>\n",
       "</tr>\n",
       "<tr>\n",
       "  <th>Survived</th>  <td>   -0.0516</td> <td>    0.024</td> <td>   -2.154</td> <td> 0.031</td> <td>   -0.099</td> <td>   -0.005</td>\n",
       "</tr>\n",
       "</table>\n",
       "<table class=\"simpletable\">\n",
       "<tr>\n",
       "  <th>Omnibus:</th>       <td>80.297</td> <th>  Durbin-Watson:     </th> <td>   1.967</td>\n",
       "</tr>\n",
       "<tr>\n",
       "  <th>Prob(Omnibus):</th> <td> 0.000</td> <th>  Jarque-Bera (JB):  </th> <td> 102.423</td>\n",
       "</tr>\n",
       "<tr>\n",
       "  <th>Skew:</th>          <td> 0.868</td> <th>  Prob(JB):          </th> <td>5.74e-23</td>\n",
       "</tr>\n",
       "<tr>\n",
       "  <th>Kurtosis:</th>      <td> 2.746</td> <th>  Cond. No.          </th> <td>    278.</td>\n",
       "</tr>\n",
       "</table><br/><br/>Notes:<br/>[1] Standard Errors are heteroscedasticity robust (HC0)"
      ],
      "text/latex": [
       "\\begin{center}\n",
       "\\begin{tabular}{lclc}\n",
       "\\toprule\n",
       "\\textbf{Dep. Variable:}    &       fare       & \\textbf{  R-squared:         } &     1.000   \\\\\n",
       "\\textbf{Model:}            &       OLS        & \\textbf{  Adj. R-squared:    } &     1.000   \\\\\n",
       "\\textbf{Method:}           &  Least Squares   & \\textbf{  F-statistic:       } & 3.909e+10   \\\\\n",
       "\\textbf{Date:}             & Mon, 18 Mar 2024 & \\textbf{  Prob (F-statistic):} &     0.00    \\\\\n",
       "\\textbf{Time:}             &     23:34:51     & \\textbf{  Log-Likelihood:    } &   -225.51   \\\\\n",
       "\\textbf{No. Observations:} &         799      & \\textbf{  AIC:               } &     459.0   \\\\\n",
       "\\textbf{Df Residuals:}     &         795      & \\textbf{  BIC:               } &     477.8   \\\\\n",
       "\\textbf{Df Model:}         &           3      & \\textbf{                     } &             \\\\\n",
       "\\textbf{Covariance Type:}  &       HC0        & \\textbf{                     } &             \\\\\n",
       "\\bottomrule\n",
       "\\end{tabular}\n",
       "\\begin{tabular}{lcccccc}\n",
       "                   & \\textbf{coef} & \\textbf{std err} & \\textbf{z} & \\textbf{P$> |$z$|$} & \\textbf{[0.025} & \\textbf{0.975]}  \\\\\n",
       "\\midrule\n",
       "\\textbf{Intercept} &      -0.0113  &        0.050     &    -0.224  &         0.823        &       -0.110    &        0.087     \\\\\n",
       "\\textbf{Fare}      &     100.0011  &        0.000     &  2.81e+05  &         0.000        &      100.000    &      100.002     \\\\\n",
       "\\textbf{Pclass}    &       0.1166  &        0.017     &     6.687  &         0.000        &        0.082    &        0.151     \\\\\n",
       "\\textbf{Survived}  &      -0.0516  &        0.024     &    -2.154  &         0.031        &       -0.099    &       -0.005     \\\\\n",
       "\\bottomrule\n",
       "\\end{tabular}\n",
       "\\begin{tabular}{lclc}\n",
       "\\textbf{Omnibus:}       & 80.297 & \\textbf{  Durbin-Watson:     } &    1.967  \\\\\n",
       "\\textbf{Prob(Omnibus):} &  0.000 & \\textbf{  Jarque-Bera (JB):  } &  102.423  \\\\\n",
       "\\textbf{Skew:}          &  0.868 & \\textbf{  Prob(JB):          } & 5.74e-23  \\\\\n",
       "\\textbf{Kurtosis:}      &  2.746 & \\textbf{  Cond. No.          } &     278.  \\\\\n",
       "\\bottomrule\n",
       "\\end{tabular}\n",
       "%\\caption{OLS Regression Results}\n",
       "\\end{center}\n",
       "\n",
       "Notes: \\newline\n",
       " [1] Standard Errors are heteroscedasticity robust (HC0)"
      ],
      "text/plain": [
       "<class 'statsmodels.iolib.summary.Summary'>\n",
       "\"\"\"\n",
       "                            OLS Regression Results                            \n",
       "==============================================================================\n",
       "Dep. Variable:                   fare   R-squared:                       1.000\n",
       "Model:                            OLS   Adj. R-squared:                  1.000\n",
       "Method:                 Least Squares   F-statistic:                 3.909e+10\n",
       "Date:                Mon, 18 Mar 2024   Prob (F-statistic):               0.00\n",
       "Time:                        23:34:51   Log-Likelihood:                -225.51\n",
       "No. Observations:                 799   AIC:                             459.0\n",
       "Df Residuals:                     795   BIC:                             477.8\n",
       "Df Model:                           3                                         \n",
       "Covariance Type:                  HC0                                         \n",
       "==============================================================================\n",
       "                 coef    std err          z      P>|z|      [0.025      0.975]\n",
       "------------------------------------------------------------------------------\n",
       "Intercept     -0.0113      0.050     -0.224      0.823      -0.110       0.087\n",
       "Fare         100.0011      0.000   2.81e+05      0.000     100.000     100.002\n",
       "Pclass         0.1166      0.017      6.687      0.000       0.082       0.151\n",
       "Survived      -0.0516      0.024     -2.154      0.031      -0.099      -0.005\n",
       "==============================================================================\n",
       "Omnibus:                       80.297   Durbin-Watson:                   1.967\n",
       "Prob(Omnibus):                  0.000   Jarque-Bera (JB):              102.423\n",
       "Skew:                           0.868   Prob(JB):                     5.74e-23\n",
       "Kurtosis:                       2.746   Cond. No.                         278.\n",
       "==============================================================================\n",
       "\n",
       "Notes:\n",
       "[1] Standard Errors are heteroscedasticity robust (HC0)\n",
       "\"\"\""
      ]
     },
     "execution_count": 30,
     "metadata": {},
     "output_type": "execute_result"
    }
   ],
   "source": [
    "### In case of Heteroskedasticity use Robust Standard Errors to correct it which makes the F-P-Value to inrease thus accepting H0\n",
    "ols_robust=smf.ols(formula=\"fare~Fare+Pclass+Survived\", data=df).fit(cov_type=\"HC0\")\n",
    "ols_robust.summary()"
   ]
  },
  {
   "cell_type": "code",
   "execution_count": 32,
   "id": "23e8a171",
   "metadata": {},
   "outputs": [
    {
     "data": {
      "text/html": [
       "<div>\n",
       "<style scoped>\n",
       "    .dataframe tbody tr th:only-of-type {\n",
       "        vertical-align: middle;\n",
       "    }\n",
       "\n",
       "    .dataframe tbody tr th {\n",
       "        vertical-align: top;\n",
       "    }\n",
       "\n",
       "    .dataframe thead th {\n",
       "        text-align: right;\n",
       "    }\n",
       "</style>\n",
       "<table border=\"1\" class=\"dataframe\">\n",
       "  <thead>\n",
       "    <tr style=\"text-align: right;\">\n",
       "      <th></th>\n",
       "      <th>0</th>\n",
       "      <th>1</th>\n",
       "    </tr>\n",
       "  </thead>\n",
       "  <tbody>\n",
       "    <tr>\n",
       "      <th>Intercept</th>\n",
       "      <td>-0.109612</td>\n",
       "      <td>0.087098</td>\n",
       "    </tr>\n",
       "    <tr>\n",
       "      <th>Fare</th>\n",
       "      <td>100.000418</td>\n",
       "      <td>100.001812</td>\n",
       "    </tr>\n",
       "    <tr>\n",
       "      <th>Pclass</th>\n",
       "      <td>0.082397</td>\n",
       "      <td>0.150728</td>\n",
       "    </tr>\n",
       "    <tr>\n",
       "      <th>Survived</th>\n",
       "      <td>-0.098620</td>\n",
       "      <td>-0.004658</td>\n",
       "    </tr>\n",
       "  </tbody>\n",
       "</table>\n",
       "</div>"
      ],
      "text/plain": [
       "                    0           1\n",
       "Intercept   -0.109612    0.087098\n",
       "Fare       100.000418  100.001812\n",
       "Pclass       0.082397    0.150728\n",
       "Survived    -0.098620   -0.004658"
      ]
     },
     "execution_count": 32,
     "metadata": {},
     "output_type": "execute_result"
    }
   ],
   "source": [
    "ols_robust.conf_int()"
   ]
  },
  {
   "cell_type": "code",
   "execution_count": null,
   "id": "1b83a347",
   "metadata": {},
   "outputs": [],
   "source": [
    "white_test = het_white(ols_robust.resid, ols_robust.ols_robust.exog)\n",
    "breuschpagan_test = het_breuschpagan(ols_robust.resid, ols_robust.ols_robust.exog)\n",
    "\n",
    "output_df=pd.DataFrame(columns=(\"LM stat\", \"LM p\", \"F stat\", \"F stat p\"))\n",
    "output_df.loc[\"white\"] = white_test\n",
    "output_df.loc[\"Breusch Pagan\"] = breuschpagan_test\n",
    "output_df"
   ]
  },
  {
   "cell_type": "code",
   "execution_count": null,
   "id": "cda6b69a",
   "metadata": {},
   "outputs": [],
   "source": []
  },
  {
   "cell_type": "code",
   "execution_count": null,
   "id": "964cbea7",
   "metadata": {},
   "outputs": [],
   "source": []
  },
  {
   "cell_type": "code",
   "execution_count": null,
   "id": "22530710",
   "metadata": {},
   "outputs": [],
   "source": []
  },
  {
   "cell_type": "code",
   "execution_count": null,
   "id": "703cc6cd",
   "metadata": {},
   "outputs": [],
   "source": []
  },
  {
   "cell_type": "code",
   "execution_count": null,
   "id": "cbe36599",
   "metadata": {},
   "outputs": [],
   "source": []
  }
 ],
 "metadata": {
  "kernelspec": {
   "display_name": "Python 3 (ipykernel)",
   "language": "python",
   "name": "python3"
  },
  "language_info": {
   "codemirror_mode": {
    "name": "ipython",
    "version": 3
   },
   "file_extension": ".py",
   "mimetype": "text/x-python",
   "name": "python",
   "nbconvert_exporter": "python",
   "pygments_lexer": "ipython3",
   "version": "3.11.5"
  }
 },
 "nbformat": 4,
 "nbformat_minor": 5
}
